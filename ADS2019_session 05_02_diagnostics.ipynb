{
 "cells": [
  {
   "cell_type": "code",
   "execution_count": 1,
   "metadata": {
    "nbpresent": {
     "id": "7b1edb37-5628-4e65-9416-6b818990dfba"
    }
   },
   "outputs": [
    {
     "name": "stdout",
     "output_type": "stream",
     "text": [
      "Populating the interactive namespace from numpy and matplotlib\n"
     ]
    }
   ],
   "source": [
    "import numpy as np   # basic numeric module in python, for array and matrix computation\n",
    "import pandas as pd  # advanced numeric module, excels in data frame analysis\n",
    "import matplotlib.pyplot as plt  # for data visualization\n",
    "%pylab inline\n",
    "import statsmodels.formula.api as smf    # for OLS regression"
   ]
  },
  {
   "cell_type": "markdown",
   "metadata": {
    "nbpresent": {
     "id": "d08efdb5-28cf-47d7-8ca4-3aa34652eed3"
    }
   },
   "source": [
    "## Example. Income vs Education in NYC zip code areas\n",
    "\n",
    "Model average income per capita against percentages of individuals of different education level within the area\n",
    "\n",
    "### Memo:\n",
    "* **IncomePerCapita**----measured in USD\n",
    "* **PopOver25** et al----population number under each category, e.g.\n",
    "    * total population over 25 years old\n",
    "    * holding a Bachelor's degree\n",
    "    * graduating from professional school, etc."
   ]
  },
  {
   "cell_type": "code",
   "execution_count": 2,
   "metadata": {},
   "outputs": [
    {
     "data": {
      "text/html": [
       "<div>\n",
       "<style scoped>\n",
       "    .dataframe tbody tr th:only-of-type {\n",
       "        vertical-align: middle;\n",
       "    }\n",
       "\n",
       "    .dataframe tbody tr th {\n",
       "        vertical-align: top;\n",
       "    }\n",
       "\n",
       "    .dataframe thead th {\n",
       "        text-align: right;\n",
       "    }\n",
       "</style>\n",
       "<table border=\"1\" class=\"dataframe\">\n",
       "  <thead>\n",
       "    <tr style=\"text-align: right;\">\n",
       "      <th></th>\n",
       "      <th>Zipcode</th>\n",
       "      <th>IncomePerCapita</th>\n",
       "      <th>PopOver25</th>\n",
       "      <th>LessThanHS</th>\n",
       "      <th>HighSchool</th>\n",
       "      <th>SomeCollege</th>\n",
       "      <th>Bachelor</th>\n",
       "      <th>Master</th>\n",
       "      <th>Doctorate</th>\n",
       "      <th>ProfSchool</th>\n",
       "    </tr>\n",
       "  </thead>\n",
       "  <tbody>\n",
       "    <tr>\n",
       "      <th>0</th>\n",
       "      <td>10001</td>\n",
       "      <td>77512.0</td>\n",
       "      <td>16328</td>\n",
       "      <td>1389</td>\n",
       "      <td>1665</td>\n",
       "      <td>2075</td>\n",
       "      <td>6061</td>\n",
       "      <td>3412</td>\n",
       "      <td>519</td>\n",
       "      <td>1207</td>\n",
       "    </tr>\n",
       "    <tr>\n",
       "      <th>1</th>\n",
       "      <td>10002</td>\n",
       "      <td>26905.0</td>\n",
       "      <td>60932</td>\n",
       "      <td>21170</td>\n",
       "      <td>12718</td>\n",
       "      <td>8532</td>\n",
       "      <td>12721</td>\n",
       "      <td>4001</td>\n",
       "      <td>641</td>\n",
       "      <td>1149</td>\n",
       "    </tr>\n",
       "    <tr>\n",
       "      <th>2</th>\n",
       "      <td>10003</td>\n",
       "      <td>79088.0</td>\n",
       "      <td>41182</td>\n",
       "      <td>1499</td>\n",
       "      <td>2810</td>\n",
       "      <td>4516</td>\n",
       "      <td>17958</td>\n",
       "      <td>9094</td>\n",
       "      <td>1626</td>\n",
       "      <td>3679</td>\n",
       "    </tr>\n",
       "    <tr>\n",
       "      <th>3</th>\n",
       "      <td>10004</td>\n",
       "      <td>98020.0</td>\n",
       "      <td>2279</td>\n",
       "      <td>29</td>\n",
       "      <td>87</td>\n",
       "      <td>305</td>\n",
       "      <td>984</td>\n",
       "      <td>550</td>\n",
       "      <td>86</td>\n",
       "      <td>238</td>\n",
       "    </tr>\n",
       "    <tr>\n",
       "      <th>4</th>\n",
       "      <td>10005</td>\n",
       "      <td>99633.0</td>\n",
       "      <td>5954</td>\n",
       "      <td>133</td>\n",
       "      <td>103</td>\n",
       "      <td>454</td>\n",
       "      <td>2745</td>\n",
       "      <td>1637</td>\n",
       "      <td>219</td>\n",
       "      <td>663</td>\n",
       "    </tr>\n",
       "  </tbody>\n",
       "</table>\n",
       "</div>"
      ],
      "text/plain": [
       "   Zipcode  IncomePerCapita  PopOver25  LessThanHS  HighSchool  SomeCollege  \\\n",
       "0    10001          77512.0      16328        1389        1665         2075   \n",
       "1    10002          26905.0      60932       21170       12718         8532   \n",
       "2    10003          79088.0      41182        1499        2810         4516   \n",
       "3    10004          98020.0       2279          29          87          305   \n",
       "4    10005          99633.0       5954         133         103          454   \n",
       "\n",
       "   Bachelor  Master  Doctorate  ProfSchool  \n",
       "0      6061    3412        519        1207  \n",
       "1     12721    4001        641        1149  \n",
       "2     17958    9094       1626        3679  \n",
       "3       984     550         86         238  \n",
       "4      2745    1637        219         663  "
      ]
     },
     "execution_count": 2,
     "metadata": {},
     "output_type": "execute_result"
    }
   ],
   "source": [
    "data4 = pd.read_csv('data/IncomeEduReg.csv')\n",
    "data4.head()"
   ]
  },
  {
   "cell_type": "markdown",
   "metadata": {
    "nbpresent": {
     "id": "15e02d22-78d7-4b6e-a382-0f6938e9aa6a"
    }
   },
   "source": [
    "Starting from now we denote Income per capita by IPC:\n",
    "$$IPC = \\frac{Total \\: Income}{Total \\: Population}$$\n",
    "But Total Income can be calculated as\n",
    "$$ Total\\: Income = \\sum_k Total \\: Income \\:in\\: Category_k$$\n",
    "$$ = \\sum_k (IPC \\: within \\: Category_k  \\times Population \\: of\\: Category_k)$$\n",
    "Then, IPC can be rewritten as\n",
    "$$ \\sum_k (IPC \\: within \\: Category_k  \\times \\frac{Population \\: of\\: Category_k}{Total \\: Population})$$\n",
    "\n",
    "$$= \\sum_{k} (I_k \\times p_k)$$\n",
    "\n",
    "where k is the category index, $I_k$ is the average income within category k, and $p_k$ is the population percentage of category k.  \n",
    "Our goal is to fit these $I_k$ as regression coefficients, note that since all these percentages sum up to 100%, we can omit one last $p_k$ and rewrite this term as 1 minus the rest. For example, if there are 3 categories in total, we have:\n",
    "$$p_1 + p_2 + p_3 = 1$$which means$$p_3 = 1 - p_1 - p_2$$\n",
    "Hence  $$IPC = I_1p_1 + I_2p_2 + I_3p_3$$ $$= I_1p_1 + I_2p_2 + I_3(1 - p_1 -p_2)$$ $$= I_3 + (I_1 - I_3)p_1 + (I_2 - I_3)p_2$$\n",
    "which means we are equivalently fitting $I_3, (I_1 - I_3), (I_2 - I_3)$ rather than $I_1, I_3, I_3$, this is also where the intercept ($I_3$) comes from."
   ]
  },
  {
   "cell_type": "code",
   "execution_count": 3,
   "metadata": {
    "nbpresent": {
     "id": "1d10fa22-6a28-4eaf-85fe-93cab3eff075"
    }
   },
   "outputs": [],
   "source": [
    "data4.dropna(inplace = True)  #drop NAN to avoid invalid computation\n",
    "data4 = pd.concat([data4.IncomePerCapita,      # Convert unit to 1k USD, only for scaling purpose\n",
    "        data4.iloc[:,3:].div(data4.PopOver25, axis = 0)],  # Compute the percentage, column-wise\n",
    "        axis = 1)  # Concatenate the Income column with percentages, row-wise"
   ]
  },
  {
   "cell_type": "code",
   "execution_count": 4,
   "metadata": {},
   "outputs": [],
   "source": [
    "# Run the regression of income per capita against education percentages (leave out \"LessThanHS\")"
   ]
  },
  {
   "cell_type": "code",
   "execution_count": 5,
   "metadata": {},
   "outputs": [
    {
     "data": {
      "text/plain": [
       "Index([u'IncomePerCapita', u'LessThanHS', u'HighSchool', u'SomeCollege',\n",
       "       u'Bachelor', u'Master', u'Doctorate', u'ProfSchool'],\n",
       "      dtype='object')"
      ]
     },
     "execution_count": 5,
     "metadata": {},
     "output_type": "execute_result"
    }
   ],
   "source": [
    "# Here's another shortcut or \"trick\" for string manipulation:\n",
    "# For those strings with repetitive pattern, we can use str.join functions to concatenate them\n",
    "# First, check the column names\n",
    "data4.columns"
   ]
  },
  {
   "cell_type": "code",
   "execution_count": 6,
   "metadata": {},
   "outputs": [
    {
     "data": {
      "text/html": [
       "<div>\n",
       "<style scoped>\n",
       "    .dataframe tbody tr th:only-of-type {\n",
       "        vertical-align: middle;\n",
       "    }\n",
       "\n",
       "    .dataframe tbody tr th {\n",
       "        vertical-align: top;\n",
       "    }\n",
       "\n",
       "    .dataframe thead th {\n",
       "        text-align: right;\n",
       "    }\n",
       "</style>\n",
       "<table border=\"1\" class=\"dataframe\">\n",
       "  <thead>\n",
       "    <tr style=\"text-align: right;\">\n",
       "      <th></th>\n",
       "      <th>IncomePerCapita</th>\n",
       "      <th>LessThanHS</th>\n",
       "      <th>HighSchool</th>\n",
       "      <th>SomeCollege</th>\n",
       "      <th>Bachelor</th>\n",
       "      <th>Master</th>\n",
       "      <th>Doctorate</th>\n",
       "      <th>ProfSchool</th>\n",
       "    </tr>\n",
       "  </thead>\n",
       "  <tbody>\n",
       "    <tr>\n",
       "      <th>0</th>\n",
       "      <td>77512.0</td>\n",
       "      <td>0.085069</td>\n",
       "      <td>0.101972</td>\n",
       "      <td>0.127082</td>\n",
       "      <td>0.371203</td>\n",
       "      <td>0.208966</td>\n",
       "      <td>0.031786</td>\n",
       "      <td>0.073922</td>\n",
       "    </tr>\n",
       "    <tr>\n",
       "      <th>1</th>\n",
       "      <td>26905.0</td>\n",
       "      <td>0.347436</td>\n",
       "      <td>0.208724</td>\n",
       "      <td>0.140025</td>\n",
       "      <td>0.208774</td>\n",
       "      <td>0.065663</td>\n",
       "      <td>0.010520</td>\n",
       "      <td>0.018857</td>\n",
       "    </tr>\n",
       "    <tr>\n",
       "      <th>2</th>\n",
       "      <td>79088.0</td>\n",
       "      <td>0.036399</td>\n",
       "      <td>0.068234</td>\n",
       "      <td>0.109660</td>\n",
       "      <td>0.436064</td>\n",
       "      <td>0.220825</td>\n",
       "      <td>0.039483</td>\n",
       "      <td>0.089335</td>\n",
       "    </tr>\n",
       "    <tr>\n",
       "      <th>3</th>\n",
       "      <td>98020.0</td>\n",
       "      <td>0.012725</td>\n",
       "      <td>0.038175</td>\n",
       "      <td>0.133831</td>\n",
       "      <td>0.431768</td>\n",
       "      <td>0.241334</td>\n",
       "      <td>0.037736</td>\n",
       "      <td>0.104432</td>\n",
       "    </tr>\n",
       "    <tr>\n",
       "      <th>4</th>\n",
       "      <td>99633.0</td>\n",
       "      <td>0.022338</td>\n",
       "      <td>0.017299</td>\n",
       "      <td>0.076251</td>\n",
       "      <td>0.461035</td>\n",
       "      <td>0.274941</td>\n",
       "      <td>0.036782</td>\n",
       "      <td>0.111354</td>\n",
       "    </tr>\n",
       "  </tbody>\n",
       "</table>\n",
       "</div>"
      ],
      "text/plain": [
       "   IncomePerCapita  LessThanHS  HighSchool  SomeCollege  Bachelor    Master  \\\n",
       "0          77512.0    0.085069    0.101972     0.127082  0.371203  0.208966   \n",
       "1          26905.0    0.347436    0.208724     0.140025  0.208774  0.065663   \n",
       "2          79088.0    0.036399    0.068234     0.109660  0.436064  0.220825   \n",
       "3          98020.0    0.012725    0.038175     0.133831  0.431768  0.241334   \n",
       "4          99633.0    0.022338    0.017299     0.076251  0.461035  0.274941   \n",
       "\n",
       "   Doctorate  ProfSchool  \n",
       "0   0.031786    0.073922  \n",
       "1   0.010520    0.018857  \n",
       "2   0.039483    0.089335  \n",
       "3   0.037736    0.104432  \n",
       "4   0.036782    0.111354  "
      ]
     },
     "execution_count": 6,
     "metadata": {},
     "output_type": "execute_result"
    }
   ],
   "source": [
    "data4.head()"
   ]
  },
  {
   "cell_type": "code",
   "execution_count": 7,
   "metadata": {},
   "outputs": [
    {
     "data": {
      "text/plain": [
       "'HighSchool + SomeCollege + Bachelor + Master + Doctorate + ProfSchool'"
      ]
     },
     "execution_count": 7,
     "metadata": {},
     "output_type": "execute_result"
    }
   ],
   "source": [
    "# Select the ones you want, then put them in your formula\n",
    "' + '.join(data4.columns[2:8])"
   ]
  },
  {
   "cell_type": "code",
   "execution_count": 8,
   "metadata": {},
   "outputs": [
    {
     "name": "stdout",
     "output_type": "stream",
     "text": [
      "                            OLS Regression Results                            \n",
      "==============================================================================\n",
      "Dep. Variable:        IncomePerCapita   R-squared:                       0.885\n",
      "Model:                            OLS   Adj. R-squared:                  0.881\n",
      "Method:                 Least Squares   F-statistic:                     223.0\n",
      "Date:                Tue, 01 Oct 2019   Prob (F-statistic):           6.25e-79\n",
      "Time:                        10:58:16   Log-Likelihood:                -1925.6\n",
      "No. Observations:                 181   AIC:                             3865.\n",
      "Df Residuals:                     174   BIC:                             3888.\n",
      "Df Model:                           6                                         \n",
      "Covariance Type:            nonrobust                                         \n",
      "===============================================================================\n",
      "                  coef    std err          t      P>|t|      [0.025      0.975]\n",
      "-------------------------------------------------------------------------------\n",
      "Intercept   -7425.3552   8555.679     -0.868      0.387   -2.43e+04    9460.916\n",
      "HighSchool   3.045e+04   1.97e+04      1.542      0.125   -8515.371    6.94e+04\n",
      "SomeCollege -2584.0999   1.92e+04     -0.135      0.893   -4.04e+04    3.53e+04\n",
      "Bachelor     8.139e+04   2.14e+04      3.812      0.000    3.92e+04    1.24e+05\n",
      "Master        417.5885   3.81e+04      0.011      0.991   -7.48e+04    7.56e+04\n",
      "Doctorate    -494.8168   8.08e+04     -0.006      0.995    -1.6e+05    1.59e+05\n",
      "ProfSchool   6.251e+05   5.95e+04     10.498      0.000    5.08e+05    7.43e+05\n",
      "==============================================================================\n",
      "Omnibus:                      110.657   Durbin-Watson:                   1.883\n",
      "Prob(Omnibus):                  0.000   Jarque-Bera (JB):             1376.517\n",
      "Skew:                           1.988   Prob(JB):                    1.24e-299\n",
      "Kurtosis:                      15.912   Cond. No.                         116.\n",
      "==============================================================================\n",
      "\n",
      "Warnings:\n",
      "[1] Standard Errors assume that the covariance matrix of the errors is correctly specified.\n"
     ]
    }
   ],
   "source": [
    "lm2 = smf.ols(formula = 'IncomePerCapita ~ ' + ' + '.join(data4.columns[2:8]), data = data4).fit()\n",
    "print(lm2.summary())"
   ]
  },
  {
   "cell_type": "markdown",
   "metadata": {},
   "source": [
    "Diagnoze muticollinearity"
   ]
  },
  {
   "cell_type": "code",
   "execution_count": 9,
   "metadata": {},
   "outputs": [
    {
     "name": "stdout",
     "output_type": "stream",
     "text": [
      "                            OLS Regression Results                            \n",
      "==============================================================================\n",
      "Dep. Variable:        IncomePerCapita   R-squared:                       0.883\n",
      "Model:                            OLS   Adj. R-squared:                  0.882\n",
      "Method:                 Least Squares   F-statistic:                     673.3\n",
      "Date:                Tue, 01 Oct 2019   Prob (F-statistic):           9.72e-84\n",
      "Time:                        10:58:16   Log-Likelihood:                -1926.9\n",
      "No. Observations:                 181   AIC:                             3860.\n",
      "Df Residuals:                     178   BIC:                             3869.\n",
      "Df Model:                           2                                         \n",
      "Covariance Type:            nonrobust                                         \n",
      "==============================================================================\n",
      "                 coef    std err          t      P>|t|      [0.025      0.975]\n",
      "------------------------------------------------------------------------------\n",
      "Intercept   3196.1341   2350.043      1.360      0.176   -1441.395    7833.663\n",
      "Bachelor    6.897e+04   1.54e+04      4.467      0.000    3.85e+04    9.94e+04\n",
      "ProfSchool  5.898e+05    4.3e+04     13.725      0.000    5.05e+05    6.75e+05\n",
      "==============================================================================\n",
      "Omnibus:                      110.091   Durbin-Watson:                   1.875\n",
      "Prob(Omnibus):                  0.000   Jarque-Bera (JB):             1323.814\n",
      "Skew:                           1.988   Prob(JB):                    3.45e-288\n",
      "Kurtosis:                      15.638   Cond. No.                         60.7\n",
      "==============================================================================\n",
      "\n",
      "Warnings:\n",
      "[1] Standard Errors assume that the covariance matrix of the errors is correctly specified.\n"
     ]
    }
   ],
   "source": [
    "#so what if we just keep the ones with low p-value?\n",
    "lm2_1 = smf.ols(formula = 'IncomePerCapita ~ Bachelor + ProfSchool', data = data4).fit()\n",
    "print(lm2_1.summary())"
   ]
  },
  {
   "cell_type": "code",
   "execution_count": 10,
   "metadata": {},
   "outputs": [
    {
     "data": {
      "text/html": [
       "<div>\n",
       "<style scoped>\n",
       "    .dataframe tbody tr th:only-of-type {\n",
       "        vertical-align: middle;\n",
       "    }\n",
       "\n",
       "    .dataframe tbody tr th {\n",
       "        vertical-align: top;\n",
       "    }\n",
       "\n",
       "    .dataframe thead th {\n",
       "        text-align: right;\n",
       "    }\n",
       "</style>\n",
       "<table border=\"1\" class=\"dataframe\">\n",
       "  <thead>\n",
       "    <tr style=\"text-align: right;\">\n",
       "      <th></th>\n",
       "      <th>IncomePerCapita</th>\n",
       "      <th>LessThanHS</th>\n",
       "      <th>HighSchool</th>\n",
       "      <th>SomeCollege</th>\n",
       "      <th>Bachelor</th>\n",
       "      <th>Master</th>\n",
       "      <th>Doctorate</th>\n",
       "      <th>ProfSchool</th>\n",
       "    </tr>\n",
       "  </thead>\n",
       "  <tbody>\n",
       "    <tr>\n",
       "      <th>IncomePerCapita</th>\n",
       "      <td>1.000000</td>\n",
       "      <td>-0.711450</td>\n",
       "      <td>-0.825741</td>\n",
       "      <td>-0.677916</td>\n",
       "      <td>0.871596</td>\n",
       "      <td>0.882306</td>\n",
       "      <td>0.729626</td>\n",
       "      <td>0.932823</td>\n",
       "    </tr>\n",
       "    <tr>\n",
       "      <th>LessThanHS</th>\n",
       "      <td>-0.711450</td>\n",
       "      <td>1.000000</td>\n",
       "      <td>0.523175</td>\n",
       "      <td>0.225423</td>\n",
       "      <td>-0.788850</td>\n",
       "      <td>-0.802496</td>\n",
       "      <td>-0.568103</td>\n",
       "      <td>-0.702364</td>\n",
       "    </tr>\n",
       "    <tr>\n",
       "      <th>HighSchool</th>\n",
       "      <td>-0.825741</td>\n",
       "      <td>0.523175</td>\n",
       "      <td>1.000000</td>\n",
       "      <td>0.709713</td>\n",
       "      <td>-0.874121</td>\n",
       "      <td>-0.874972</td>\n",
       "      <td>-0.757934</td>\n",
       "      <td>-0.876771</td>\n",
       "    </tr>\n",
       "    <tr>\n",
       "      <th>SomeCollege</th>\n",
       "      <td>-0.677916</td>\n",
       "      <td>0.225423</td>\n",
       "      <td>0.709713</td>\n",
       "      <td>1.000000</td>\n",
       "      <td>-0.682267</td>\n",
       "      <td>-0.663155</td>\n",
       "      <td>-0.644476</td>\n",
       "      <td>-0.715817</td>\n",
       "    </tr>\n",
       "    <tr>\n",
       "      <th>Bachelor</th>\n",
       "      <td>0.871596</td>\n",
       "      <td>-0.788850</td>\n",
       "      <td>-0.874121</td>\n",
       "      <td>-0.682267</td>\n",
       "      <td>1.000000</td>\n",
       "      <td>0.920058</td>\n",
       "      <td>0.706647</td>\n",
       "      <td>0.874991</td>\n",
       "    </tr>\n",
       "    <tr>\n",
       "      <th>Master</th>\n",
       "      <td>0.882306</td>\n",
       "      <td>-0.802496</td>\n",
       "      <td>-0.874972</td>\n",
       "      <td>-0.663155</td>\n",
       "      <td>0.920058</td>\n",
       "      <td>1.000000</td>\n",
       "      <td>0.793292</td>\n",
       "      <td>0.918050</td>\n",
       "    </tr>\n",
       "    <tr>\n",
       "      <th>Doctorate</th>\n",
       "      <td>0.729626</td>\n",
       "      <td>-0.568103</td>\n",
       "      <td>-0.757934</td>\n",
       "      <td>-0.644476</td>\n",
       "      <td>0.706647</td>\n",
       "      <td>0.793292</td>\n",
       "      <td>1.000000</td>\n",
       "      <td>0.782667</td>\n",
       "    </tr>\n",
       "    <tr>\n",
       "      <th>ProfSchool</th>\n",
       "      <td>0.932823</td>\n",
       "      <td>-0.702364</td>\n",
       "      <td>-0.876771</td>\n",
       "      <td>-0.715817</td>\n",
       "      <td>0.874991</td>\n",
       "      <td>0.918050</td>\n",
       "      <td>0.782667</td>\n",
       "      <td>1.000000</td>\n",
       "    </tr>\n",
       "  </tbody>\n",
       "</table>\n",
       "</div>"
      ],
      "text/plain": [
       "                 IncomePerCapita  LessThanHS  HighSchool  SomeCollege  \\\n",
       "IncomePerCapita         1.000000   -0.711450   -0.825741    -0.677916   \n",
       "LessThanHS             -0.711450    1.000000    0.523175     0.225423   \n",
       "HighSchool             -0.825741    0.523175    1.000000     0.709713   \n",
       "SomeCollege            -0.677916    0.225423    0.709713     1.000000   \n",
       "Bachelor                0.871596   -0.788850   -0.874121    -0.682267   \n",
       "Master                  0.882306   -0.802496   -0.874972    -0.663155   \n",
       "Doctorate               0.729626   -0.568103   -0.757934    -0.644476   \n",
       "ProfSchool              0.932823   -0.702364   -0.876771    -0.715817   \n",
       "\n",
       "                 Bachelor    Master  Doctorate  ProfSchool  \n",
       "IncomePerCapita  0.871596  0.882306   0.729626    0.932823  \n",
       "LessThanHS      -0.788850 -0.802496  -0.568103   -0.702364  \n",
       "HighSchool      -0.874121 -0.874972  -0.757934   -0.876771  \n",
       "SomeCollege     -0.682267 -0.663155  -0.644476   -0.715817  \n",
       "Bachelor         1.000000  0.920058   0.706647    0.874991  \n",
       "Master           0.920058  1.000000   0.793292    0.918050  \n",
       "Doctorate        0.706647  0.793292   1.000000    0.782667  \n",
       "ProfSchool       0.874991  0.918050   0.782667    1.000000  "
      ]
     },
     "execution_count": 10,
     "metadata": {},
     "output_type": "execute_result"
    }
   ],
   "source": [
    "data4.corr()"
   ]
  },
  {
   "cell_type": "markdown",
   "metadata": {
    "collapsed": true
   },
   "source": [
    "#### We can see that these variables are highly correlated to each other, so the results' interpretability is suffering from multicollinearity."
   ]
  },
  {
   "cell_type": "markdown",
   "metadata": {},
   "source": [
    "## In-class excercise"
   ]
  },
  {
   "cell_type": "markdown",
   "metadata": {},
   "source": [
    "Q1. Perform regression vs Bachelor and \"Advanced\" which incorporated Master, Doctorate and ProfSchool"
   ]
  },
  {
   "cell_type": "markdown",
   "metadata": {
    "collapsed": true
   },
   "source": [
    "Q2. Visualize the regression fit by plotting the observation versus our prediction for the income per capita"
   ]
  }
 ],
 "metadata": {
  "anaconda-cloud": {},
  "kernelspec": {
   "display_name": "Python 2",
   "language": "python",
   "name": "python2"
  },
  "language_info": {
   "codemirror_mode": {
    "name": "ipython",
    "version": 2
   },
   "file_extension": ".py",
   "mimetype": "text/x-python",
   "name": "python",
   "nbconvert_exporter": "python",
   "pygments_lexer": "ipython2",
   "version": "2.7.15"
  }
 },
 "nbformat": 4,
 "nbformat_minor": 1
}
